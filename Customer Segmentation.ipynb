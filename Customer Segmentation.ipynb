{
 "cells": [
  {
   "cell_type": "markdown",
   "id": "f4b9b716",
   "metadata": {
    "id": "f4b9b716"
   },
   "source": [
    "---"
   ]
  },
  {
   "cell_type": "markdown",
   "id": "e2e0a13b",
   "metadata": {
    "id": "e2e0a13b"
   },
   "source": [
    "# <center> ★ AI / ML Project - Customer Segmentation ★\n",
    "#### <center> ***Domain: Bussiness & Marketing***"
   ]
  },
  {
   "cell_type": "markdown",
   "id": "24d701df",
   "metadata": {
    "id": "24d701df"
   },
   "source": [
    "---"
   ]
  },
  {
   "cell_type": "markdown",
   "id": "f46ff487",
   "metadata": {
    "id": "f46ff487"
   },
   "source": [
    "<img src=\"customer_segmentation.png\" style=\"width: 600px;\"/>"
   ]
  },
  {
   "cell_type": "markdown",
   "id": "45759f35",
   "metadata": {
    "id": "45759f35"
   },
   "source": [
    "---"
   ]
  },
  {
   "cell_type": "markdown",
   "id": "b9d0f5f9",
   "metadata": {
    "id": "b9d0f5f9"
   },
   "source": [
    "### Description:\n",
    "\n",
    "A company that selling some of the product, and you want to know how well does the selling performance of the product.You have the data that can we analyze, but what kind of analysis that we can do?Well, we can segment customers based on their buying behavior on the market.\n",
    "Keep in mind that the data is really huge, and we can not analyze it using our bare eye. We will use machine learning algorithms and the power of computing for it.\n",
    "\n",
    "This project will show you how to cluster customers on segments based on their behavior using the K-Means algorithm in Python.\n",
    "I hope that this article will help you on how to do customer segmentation step-by-step from preparing the data to cluster it.\n",
    "\n",
    "\n",
    "### Acknowledgements:\n",
    "This dataset has been referred from UCI ML Repository:\n",
    "https://archive.ics.uci.edu/ml/datasets/online+retail"
   ]
  },
  {
   "cell_type": "markdown",
   "id": "4a621cf7",
   "metadata": {
    "id": "4a621cf7"
   },
   "source": [
    "### Objective:\n",
    "- Understand the Dataset & cleanup (if required).\n",
    "- Build clustering model to segment the customer based similarity.\n",
    "- Also fine-tune the hyperparameters & compare the evaluation metrics of vaious classification algorithms."
   ]
  },
  {
   "cell_type": "markdown",
   "id": "ffc470fa",
   "metadata": {
    "id": "ffc470fa"
   },
   "source": [
    "---"
   ]
  },
  {
   "cell_type": "markdown",
   "id": "12956ec5",
   "metadata": {},
   "source": [
    "## <center> Stractegic Plan of Action:"
   ]
  },
  {
   "cell_type": "markdown",
   "id": "75fbc29a",
   "metadata": {},
   "source": [
    " "
   ]
  },
  {
   "cell_type": "markdown",
   "id": "6b58824c",
   "metadata": {},
   "source": [
    "**We aim to solve the problem statement by creating a plan of action, Here are some of the necessary steps:**\n",
    "1. Data Exploration\n",
    "2. Exploratory Data Analysis (EDA)\n",
    "3. Data Pre-processing\n",
    "4. Data Manipulation\n",
    "5. Predictive Modelling\n",
    "6. Project Outcomes & Conclusion"
   ]
  },
  {
   "cell_type": "markdown",
   "id": "eab190e4",
   "metadata": {},
   "source": [
    "---"
   ]
  },
  {
   "cell_type": "markdown",
   "id": "34257b36",
   "metadata": {
    "id": "34257b36"
   },
   "source": [
    "## <center>1. Data Exploration"
   ]
  },
  {
   "cell_type": "markdown",
   "id": "10ef6c05",
   "metadata": {},
   "source": [
    " "
   ]
  },
  {
   "cell_type": "code",
   "execution_count": 112,
   "id": "14121a2f",
   "metadata": {
    "id": "14121a2f"
   },
   "outputs": [],
   "source": [
    "#Importing the basic librarires\n",
    "\n",
    "import os\n",
    "import math\n",
    "import scipy\n",
    "import datetime\n",
    "import numpy as np\n",
    "import pandas as pd\n",
    "import seaborn as sns\n",
    "from scipy import stats\n",
    "from scipy.stats import randint\n",
    "from scipy.stats import loguniform\n",
    "from IPython.display import display\n",
    "\n",
    "from sklearn.cluster import KMeans\n",
    "from sklearn.preprocessing import OneHotEncoder\n",
    "from sklearn.preprocessing import StandardScaler\n",
    "from sklearn.model_selection import train_test_split\n",
    "\n",
    "import matplotlib.pyplot as plt\n",
    "plt.rcParams['figure.figsize'] = [10,6]\n",
    "\n",
    "import warnings \n",
    "warnings.filterwarnings('ignore')"
   ]
  },
  {
   "cell_type": "code",
   "execution_count": 125,
   "id": "7cb77c40",
   "metadata": {},
   "outputs": [
    {
     "data": {
      "text/html": [
       "<div>\n",
       "<style scoped>\n",
       "    .dataframe tbody tr th:only-of-type {\n",
       "        vertical-align: middle;\n",
       "    }\n",
       "\n",
       "    .dataframe tbody tr th {\n",
       "        vertical-align: top;\n",
       "    }\n",
       "\n",
       "    .dataframe thead th {\n",
       "        text-align: right;\n",
       "    }\n",
       "</style>\n",
       "<table border=\"1\" class=\"dataframe\">\n",
       "  <thead>\n",
       "    <tr style=\"text-align: right;\">\n",
       "      <th></th>\n",
       "      <th>InvoiceNo</th>\n",
       "      <th>StockCode</th>\n",
       "      <th>Description</th>\n",
       "      <th>Quantity</th>\n",
       "      <th>InvoiceDate</th>\n",
       "      <th>UnitPrice</th>\n",
       "      <th>CustomerID</th>\n",
       "      <th>Country</th>\n",
       "    </tr>\n",
       "  </thead>\n",
       "  <tbody>\n",
       "    <tr>\n",
       "      <th>0</th>\n",
       "      <td>536365</td>\n",
       "      <td>85123A</td>\n",
       "      <td>WHITE HANGING HEART T-LIGHT HOLDER</td>\n",
       "      <td>6</td>\n",
       "      <td>2010-12-01 08:26:00</td>\n",
       "      <td>2.55</td>\n",
       "      <td>17850.0</td>\n",
       "      <td>United Kingdom</td>\n",
       "    </tr>\n",
       "    <tr>\n",
       "      <th>1</th>\n",
       "      <td>536365</td>\n",
       "      <td>71053</td>\n",
       "      <td>WHITE METAL LANTERN</td>\n",
       "      <td>6</td>\n",
       "      <td>2010-12-01 08:26:00</td>\n",
       "      <td>3.39</td>\n",
       "      <td>17850.0</td>\n",
       "      <td>United Kingdom</td>\n",
       "    </tr>\n",
       "    <tr>\n",
       "      <th>2</th>\n",
       "      <td>536365</td>\n",
       "      <td>84406B</td>\n",
       "      <td>CREAM CUPID HEARTS COAT HANGER</td>\n",
       "      <td>8</td>\n",
       "      <td>2010-12-01 08:26:00</td>\n",
       "      <td>2.75</td>\n",
       "      <td>17850.0</td>\n",
       "      <td>United Kingdom</td>\n",
       "    </tr>\n",
       "    <tr>\n",
       "      <th>3</th>\n",
       "      <td>536365</td>\n",
       "      <td>84029G</td>\n",
       "      <td>KNITTED UNION FLAG HOT WATER BOTTLE</td>\n",
       "      <td>6</td>\n",
       "      <td>2010-12-01 08:26:00</td>\n",
       "      <td>3.39</td>\n",
       "      <td>17850.0</td>\n",
       "      <td>United Kingdom</td>\n",
       "    </tr>\n",
       "    <tr>\n",
       "      <th>4</th>\n",
       "      <td>536365</td>\n",
       "      <td>84029E</td>\n",
       "      <td>RED WOOLLY HOTTIE WHITE HEART.</td>\n",
       "      <td>6</td>\n",
       "      <td>2010-12-01 08:26:00</td>\n",
       "      <td>3.39</td>\n",
       "      <td>17850.0</td>\n",
       "      <td>United Kingdom</td>\n",
       "    </tr>\n",
       "  </tbody>\n",
       "</table>\n",
       "</div>"
      ],
      "text/plain": [
       "  InvoiceNo StockCode                          Description  Quantity  \\\n",
       "0    536365    85123A   WHITE HANGING HEART T-LIGHT HOLDER         6   \n",
       "1    536365     71053                  WHITE METAL LANTERN         6   \n",
       "2    536365    84406B       CREAM CUPID HEARTS COAT HANGER         8   \n",
       "3    536365    84029G  KNITTED UNION FLAG HOT WATER BOTTLE         6   \n",
       "4    536365    84029E       RED WOOLLY HOTTIE WHITE HEART.         6   \n",
       "\n",
       "          InvoiceDate  UnitPrice  CustomerID         Country  \n",
       "0 2010-12-01 08:26:00       2.55     17850.0  United Kingdom  \n",
       "1 2010-12-01 08:26:00       3.39     17850.0  United Kingdom  \n",
       "2 2010-12-01 08:26:00       2.75     17850.0  United Kingdom  \n",
       "3 2010-12-01 08:26:00       3.39     17850.0  United Kingdom  \n",
       "4 2010-12-01 08:26:00       3.39     17850.0  United Kingdom  "
      ]
     },
     "metadata": {},
     "output_type": "display_data"
    },
    {
     "name": "stdout",
     "output_type": "stream",
     "text": [
      "\n",
      "\u001b[1mInference:\u001b[0m The Datset consists of 8 features & 541909 samples.\n"
     ]
    }
   ],
   "source": [
    "#Importing the dataset\n",
    "\n",
    "df = pd.read_excel('Online Retail.xlsx')\n",
    "\n",
    "original_df = df.copy(deep=True)\n",
    "display(df.head())\n",
    "\n",
    "print('\\n\\033[1mInference:\\033[0m The Datset consists of {} features & {} samples.'.format(df.shape[1], df.shape[0]))"
   ]
  },
  {
   "cell_type": "code",
   "execution_count": 155,
   "id": "37e1a6ac",
   "metadata": {},
   "outputs": [
    {
     "data": {
      "text/html": [
       "<div>\n",
       "<style scoped>\n",
       "    .dataframe tbody tr th:only-of-type {\n",
       "        vertical-align: middle;\n",
       "    }\n",
       "\n",
       "    .dataframe tbody tr th {\n",
       "        vertical-align: top;\n",
       "    }\n",
       "\n",
       "    .dataframe thead th {\n",
       "        text-align: right;\n",
       "    }\n",
       "</style>\n",
       "<table border=\"1\" class=\"dataframe\">\n",
       "  <thead>\n",
       "    <tr style=\"text-align: right;\">\n",
       "      <th></th>\n",
       "      <th>Recency</th>\n",
       "      <th>Frequency</th>\n",
       "      <th>MonetaryValue</th>\n",
       "    </tr>\n",
       "    <tr>\n",
       "      <th>CustomerID</th>\n",
       "      <th></th>\n",
       "      <th></th>\n",
       "      <th></th>\n",
       "    </tr>\n",
       "  </thead>\n",
       "  <tbody>\n",
       "    <tr>\n",
       "      <th>12347.0</th>\n",
       "      <td>3</td>\n",
       "      <td>5</td>\n",
       "      <td>81.60</td>\n",
       "    </tr>\n",
       "    <tr>\n",
       "      <th>12349.0</th>\n",
       "      <td>19</td>\n",
       "      <td>1</td>\n",
       "      <td>19.90</td>\n",
       "    </tr>\n",
       "    <tr>\n",
       "      <th>12353.0</th>\n",
       "      <td>205</td>\n",
       "      <td>1</td>\n",
       "      <td>39.80</td>\n",
       "    </tr>\n",
       "    <tr>\n",
       "      <th>12354.0</th>\n",
       "      <td>233</td>\n",
       "      <td>2</td>\n",
       "      <td>25.45</td>\n",
       "    </tr>\n",
       "    <tr>\n",
       "      <th>12356.0</th>\n",
       "      <td>326</td>\n",
       "      <td>1</td>\n",
       "      <td>50.00</td>\n",
       "    </tr>\n",
       "  </tbody>\n",
       "</table>\n",
       "</div>"
      ],
      "text/plain": [
       "            Recency  Frequency  MonetaryValue\n",
       "CustomerID                                   \n",
       "12347.0           3          5          81.60\n",
       "12349.0          19          1          19.90\n",
       "12353.0         205          1          39.80\n",
       "12354.0         233          2          25.45\n",
       "12356.0         326          1          50.00"
      ]
     },
     "metadata": {},
     "output_type": "display_data"
    }
   ],
   "source": [
    "#Creating MRF Table Strategy\n",
    "\n",
    "df_s = df.sample(10000, random_state=42)\n",
    "df_s[\"InvoiceDate\"] = df_s[\"InvoiceDate\"].dt.date\n",
    "df_s[\"TotalSum\"] = df_s[\"Quantity\"] * df_s[\"UnitPrice\"]\n",
    "snapshot_date = max(df_s.InvoiceDate) + datetime.timedelta(days=1)\n",
    "customers = df_s.groupby(['CustomerID']).agg({'InvoiceDate': lambda x: (snapshot_date - x.max()).days,\n",
    "                                            'InvoiceNo': 'count','TotalSum': 'sum'})\n",
    "customers.rename(columns = {'InvoiceDate': 'Recency','InvoiceNo': 'Frequency',\n",
    "                            'TotalSum': 'MonetaryValue'}, inplace=True)\n",
    "#customers = customers[customers.MonetaryValue>0]\n",
    "display(customers.head())"
   ]
  },
  {
   "cell_type": "code",
   "execution_count": 156,
   "id": "67ecc02a",
   "metadata": {
    "colab": {
     "base_uri": "https://localhost:8080/"
    },
    "id": "67ecc02a",
    "outputId": "01a1684f-fb0b-472d-b398-f598878dc4a5"
   },
   "outputs": [
    {
     "name": "stdout",
     "output_type": "stream",
     "text": [
      "<class 'pandas.core.frame.DataFrame'>\n",
      "Float64Index: 2433 entries, 12347.0 to 18287.0\n",
      "Data columns (total 3 columns):\n",
      " #   Column         Non-Null Count  Dtype  \n",
      "---  ------         --------------  -----  \n",
      " 0   Recency        2433 non-null   int64  \n",
      " 1   Frequency      2433 non-null   int64  \n",
      " 2   MonetaryValue  2433 non-null   float64\n",
      "dtypes: float64(1), int64(2)\n",
      "memory usage: 76.0 KB\n"
     ]
    }
   ],
   "source": [
    "#Checking the dtypes of all the columns\n",
    "\n",
    "customers.info()"
   ]
  },
  {
   "cell_type": "code",
   "execution_count": 157,
   "id": "1f2b3ecc",
   "metadata": {
    "colab": {
     "base_uri": "https://localhost:8080/",
     "height": 300
    },
    "id": "1f2b3ecc",
    "outputId": "0f6ac2da-32e2-4b4c-e88d-741c9b4574a6"
   },
   "outputs": [
    {
     "data": {
      "text/html": [
       "<div>\n",
       "<style scoped>\n",
       "    .dataframe tbody tr th:only-of-type {\n",
       "        vertical-align: middle;\n",
       "    }\n",
       "\n",
       "    .dataframe tbody tr th {\n",
       "        vertical-align: top;\n",
       "    }\n",
       "\n",
       "    .dataframe thead th {\n",
       "        text-align: right;\n",
       "    }\n",
       "</style>\n",
       "<table border=\"1\" class=\"dataframe\">\n",
       "  <thead>\n",
       "    <tr style=\"text-align: right;\">\n",
       "      <th></th>\n",
       "      <th>Recency</th>\n",
       "      <th>Frequency</th>\n",
       "      <th>MonetaryValue</th>\n",
       "    </tr>\n",
       "  </thead>\n",
       "  <tbody>\n",
       "    <tr>\n",
       "      <th>count</th>\n",
       "      <td>2433.000000</td>\n",
       "      <td>2433.000000</td>\n",
       "      <td>2433.000000</td>\n",
       "    </tr>\n",
       "    <tr>\n",
       "      <th>mean</th>\n",
       "      <td>115.114673</td>\n",
       "      <td>3.076038</td>\n",
       "      <td>60.757185</td>\n",
       "    </tr>\n",
       "    <tr>\n",
       "      <th>std</th>\n",
       "      <td>105.746852</td>\n",
       "      <td>5.693838</td>\n",
       "      <td>205.094177</td>\n",
       "    </tr>\n",
       "    <tr>\n",
       "      <th>min</th>\n",
       "      <td>1.000000</td>\n",
       "      <td>1.000000</td>\n",
       "      <td>-1867.860000</td>\n",
       "    </tr>\n",
       "    <tr>\n",
       "      <th>25%</th>\n",
       "      <td>30.000000</td>\n",
       "      <td>1.000000</td>\n",
       "      <td>12.400000</td>\n",
       "    </tr>\n",
       "    <tr>\n",
       "      <th>50%</th>\n",
       "      <td>73.000000</td>\n",
       "      <td>2.000000</td>\n",
       "      <td>24.770000</td>\n",
       "    </tr>\n",
       "    <tr>\n",
       "      <th>75%</th>\n",
       "      <td>191.000000</td>\n",
       "      <td>3.000000</td>\n",
       "      <td>53.100000</td>\n",
       "    </tr>\n",
       "    <tr>\n",
       "      <th>max</th>\n",
       "      <td>374.000000</td>\n",
       "      <td>137.000000</td>\n",
       "      <td>4887.330000</td>\n",
       "    </tr>\n",
       "  </tbody>\n",
       "</table>\n",
       "</div>"
      ],
      "text/plain": [
       "           Recency    Frequency  MonetaryValue\n",
       "count  2433.000000  2433.000000    2433.000000\n",
       "mean    115.114673     3.076038      60.757185\n",
       "std     105.746852     5.693838     205.094177\n",
       "min       1.000000     1.000000   -1867.860000\n",
       "25%      30.000000     1.000000      12.400000\n",
       "50%      73.000000     2.000000      24.770000\n",
       "75%     191.000000     3.000000      53.100000\n",
       "max     374.000000   137.000000    4887.330000"
      ]
     },
     "metadata": {},
     "output_type": "display_data"
    }
   ],
   "source": [
    "#Checking the stats of all the columns\n",
    "\n",
    "display(customers.describe())"
   ]
  },
  {
   "cell_type": "markdown",
   "id": "7c785e92",
   "metadata": {
    "id": "7c785e92"
   },
   "source": [
    "**Inference:** The stats seem to be fine, let us gain more undestanding by visualising the dataset."
   ]
  },
  {
   "cell_type": "markdown",
   "id": "ada9e209",
   "metadata": {
    "id": "ada9e209"
   },
   "source": [
    "---"
   ]
  },
  {
   "cell_type": "markdown",
   "id": "fdf33033",
   "metadata": {
    "id": "fdf33033"
   },
   "source": [
    "## <center> 2. Exploratory Data Analysis (EDA)"
   ]
  },
  {
   "cell_type": "markdown",
   "id": "00b82256",
   "metadata": {},
   "source": [
    " "
   ]
  },
  {
   "cell_type": "code",
   "execution_count": 159,
   "id": "3120759d",
   "metadata": {
    "colab": {
     "base_uri": "https://localhost:8080/",
     "height": 0
    },
    "id": "3120759d",
    "outputId": "87a560f1-0a37-484e-9c9f-1ae91a34d445"
   },
   "outputs": [
    {
     "name": "stdout",
     "output_type": "stream",
     "text": [
      "                                   \u001b[1mRMF Variables Distribution                                   \n"
     ]
    },
    {
     "data": {
      "image/png": "[encoded data removed]",
      "text/plain": [
       "<Figure size 1080x216 with 3 Axes>"
      ]
     },
     "metadata": {
      "needs_background": "light"
     },
     "output_type": "display_data"
    }
   ],
   "source": [
    "#Understanding the RFM Distribution\n",
    "\n",
    "print('\\033[1mRMF Variables Distribution'.center(100))\n",
    "\n",
    "n=3\n",
    "nf = [i for i in customers.columns if i not in cf]\n",
    "\n",
    "plt.figure(figsize=[15,3*math.ceil(len(nf)/n)])\n",
    "for c in range(len(nf)):\n",
    "    plt.subplot(math.ceil(len(nf)/n),n,c+1)\n",
    "    sns.distplot(customers[nf[c]])\n",
    "plt.tight_layout()\n",
    "plt.show()\n",
    "\n",
    "# plt.figure(figsize=[15,3*math.ceil(len(nf)/n)])\n",
    "# for c in range(len(nf)):\n",
    "#     plt.subplot(math.ceil(len(nf)/n),n,c+1)\n",
    "#     customers.boxplot(nf[c])\n",
    "# plt.tight_layout()\n",
    "# plt.show()"
   ]
  },
  {
   "cell_type": "markdown",
   "id": "b2a2d578",
   "metadata": {
    "id": "b2a2d578"
   },
   "source": [
    "**Inference:** The data does not meet the assumptions where the variables are not squewed and have same mean & variance. Let us try to transform the data. Some of the common transorms are:\n",
    "* Log Transform\n",
    "* Sqrt Trasform\n",
    "* Box-Cox Transform"
   ]
  },
  {
   "cell_type": "code",
   "execution_count": 143,
   "id": "400a0dea",
   "metadata": {},
   "outputs": [
    {
     "data": {
      "image/png": "[encoded data removed]",
      "text/plain": [
       "<Figure size 1080x216 with 3 Axes>"
      ]
     },
     "metadata": {
      "needs_background": "light"
     },
     "output_type": "display_data"
    },
    {
     "data": {
      "image/png": "[encoded data removed]",
      "text/plain": [
       "<Figure size 1080x216 with 3 Axes>"
      ]
     },
     "metadata": {
      "needs_background": "light"
     },
     "output_type": "display_data"
    },
    {
     "data": {
      "image/png": "[encoded data removed]",
      "text/plain": [
       "<Figure size 1080x216 with 3 Axes>"
      ]
     },
     "metadata": {
      "needs_background": "light"
     },
     "output_type": "display_data"
    }
   ],
   "source": [
    "cutomers_logT = customers.copy(deep=True)\n",
    "cutomers_sqrtT = customers.copy(deep=True)\n",
    "cutomers_cbrtT = customers.copy(deep=True)\n",
    "cutomers_bxcxT = customers.copy(deep=True)\n",
    "\n",
    "for i in customers.columns:\n",
    "    cutomers_logT[i] = np.log(customers[i])\n",
    "    cutomers_sqrtT[i] = np.sqrt(customers[i])\n",
    "    cutomers_cbrtT[i] = np.cbrt(customers[i])\n",
    "    if i!='MonetaryValue':\n",
    "        cutomers_bxcxT[i] = stats.boxcox(customers[i])[0]\n",
    "\n",
    "# plt.figure(figsize=[15,3*math.ceil(len(nf)/n)])\n",
    "# for c in range(len(nf)):\n",
    "#     plt.subplot(math.ceil(len(nf)/n),n,c+1)\n",
    "#     sns.distplot(customers[nf[c]])\n",
    "#     plt.title('Original - {}'.format(nf[c]))\n",
    "# plt.tight_layout()\n",
    "# plt.show()\n",
    "\n",
    "plt.figure(figsize=[15,3*math.ceil(len(nf)/n)])\n",
    "for c in range(len(nf)):\n",
    "    plt.subplot(math.ceil(len(nf)/n),n,c+1)\n",
    "    sns.distplot(cutomers_logT[nf[c]])\n",
    "    plt.title('Log Transformed - {}'.format(nf[c]))\n",
    "plt.tight_layout()\n",
    "plt.show()\n",
    "\n",
    "plt.figure(figsize=[15,3*math.ceil(len(nf)/n)])\n",
    "for c in range(len(nf)):\n",
    "    plt.subplot(math.ceil(len(nf)/n),n,c+1)\n",
    "    sns.distplot(cutomers_sqrtT[nf[c]])\n",
    "    plt.title('Sqrt Transformed - {}'.format(nf[c]))\n",
    "plt.tight_layout()\n",
    "plt.show()\n",
    "\n",
    "plt.figure(figsize=[15,3*math.ceil(len(nf)/n)])\n",
    "for c in range(len(nf)-1):\n",
    "    plt.subplot(1,3,c+1)\n",
    "    sns.distplot(cutomers_bxcxT[nf[c]])\n",
    "    plt.title('BoxCox Transformed - {}'.format(nf[c]))\n",
    "plt.subplot(1,3,3)\n",
    "sns.distplot(cutomers_cbrtT[nf[2]])\n",
    "plt.title('Cube Root Transformed - {}'.format(nf[2]))\n",
    "plt.tight_layout()\n",
    "plt.show()"
   ]
  },
  {
   "cell_type": "markdown",
   "id": "5a329c3f",
   "metadata": {
    "id": "5a329c3f"
   },
   "source": [
    "**Inference:** By overserving the plots, it is clear that Recency & Frequency shows more symmetrical form with box-cox transform. Since Monetart Value cannot be represented with Box-cox as it contains negative values, hence we shall use cube root transformation for it."
   ]
  },
  {
   "cell_type": "markdown",
   "id": "3f837e24",
   "metadata": {
    "id": "3f837e24"
   },
   "source": [
    "---"
   ]
  },
  {
   "cell_type": "markdown",
   "id": "6f3612c2",
   "metadata": {
    "id": "6f3612c2"
   },
   "source": [
    "## <center> 3. Data Preprocessing"
   ]
  },
  {
   "cell_type": "markdown",
   "id": "c417b365",
   "metadata": {},
   "source": [
    " "
   ]
  },
  {
   "cell_type": "code",
   "execution_count": 145,
   "id": "9818983f",
   "metadata": {},
   "outputs": [
    {
     "data": {
      "text/html": [
       "<div>\n",
       "<style scoped>\n",
       "    .dataframe tbody tr th:only-of-type {\n",
       "        vertical-align: middle;\n",
       "    }\n",
       "\n",
       "    .dataframe tbody tr th {\n",
       "        vertical-align: top;\n",
       "    }\n",
       "\n",
       "    .dataframe thead th {\n",
       "        text-align: right;\n",
       "    }\n",
       "</style>\n",
       "<table border=\"1\" class=\"dataframe\">\n",
       "  <thead>\n",
       "    <tr style=\"text-align: right;\">\n",
       "      <th></th>\n",
       "      <th>Recency</th>\n",
       "      <th>Frequency</th>\n",
       "      <th>MonetaryValue</th>\n",
       "    </tr>\n",
       "  </thead>\n",
       "  <tbody>\n",
       "    <tr>\n",
       "      <th>2428</th>\n",
       "      <td>5.144506</td>\n",
       "      <td>1.021167</td>\n",
       "      <td>4.861252</td>\n",
       "    </tr>\n",
       "    <tr>\n",
       "      <th>2429</th>\n",
       "      <td>6.148622</td>\n",
       "      <td>0.564199</td>\n",
       "      <td>4.091635</td>\n",
       "    </tr>\n",
       "    <tr>\n",
       "      <th>2430</th>\n",
       "      <td>1.272970</td>\n",
       "      <td>0.798349</td>\n",
       "      <td>3.737290</td>\n",
       "    </tr>\n",
       "    <tr>\n",
       "      <th>2431</th>\n",
       "      <td>1.671379</td>\n",
       "      <td>1.253008</td>\n",
       "      <td>3.013275</td>\n",
       "    </tr>\n",
       "    <tr>\n",
       "      <th>2432</th>\n",
       "      <td>11.514709</td>\n",
       "      <td>0.000000</td>\n",
       "      <td>2.482545</td>\n",
       "    </tr>\n",
       "  </tbody>\n",
       "</table>\n",
       "</div>"
      ],
      "text/plain": [
       "        Recency  Frequency  MonetaryValue\n",
       "2428   5.144506   1.021167       4.861252\n",
       "2429   6.148622   0.564199       4.091635\n",
       "2430   1.272970   0.798349       3.737290\n",
       "2431   1.671379   1.253008       3.013275\n",
       "2432  11.514709   0.000000       2.482545"
      ]
     },
     "execution_count": 145,
     "metadata": {},
     "output_type": "execute_result"
    }
   ],
   "source": [
    "#Applying the selected Transformations\n",
    "\n",
    "customers_fix = pd.DataFrame()\n",
    "customers_fix[\"Recency\"] = stats.boxcox(customers['Recency'])[0]\n",
    "customers_fix[\"Frequency\"] = stats.boxcox(customers['Frequency'])[0]\n",
    "customers_fix[\"MonetaryValue\"] = pd.Series(np.cbrt(customers['MonetaryValue'])).values\n",
    "customers_fix.tail()"
   ]
  },
  {
   "cell_type": "markdown",
   "id": "9c9b4be0",
   "metadata": {
    "id": "9c9b4be0"
   },
   "source": [
    "---"
   ]
  },
  {
   "cell_type": "markdown",
   "id": "1088fde8",
   "metadata": {
    "id": "1088fde8"
   },
   "source": [
    "## <center> 4. Data Manipulation"
   ]
  },
  {
   "cell_type": "code",
   "execution_count": 146,
   "id": "72100e4e",
   "metadata": {},
   "outputs": [
    {
     "name": "stdout",
     "output_type": "stream",
     "text": [
      "[-0. -0. -0.]\n",
      "[1. 1. 1.]\n"
     ]
    }
   ],
   "source": [
    "#Applying Standardization\n",
    "\n",
    "scaler = StandardScaler()\n",
    "scaler.fit(customers_fix)\n",
    "customers_normalized = scaler.transform(customers_fix)\n",
    "\n",
    "print(customers_normalized.mean(axis = 0).round(2)) # [0. -0. 0.]\n",
    "print(customers_normalized.std(axis = 0).round(2)) # [1. 1. 1.]"
   ]
  },
  {
   "cell_type": "markdown",
   "id": "af0e3eb9",
   "metadata": {},
   "source": [
    " "
   ]
  },
  {
   "cell_type": "markdown",
   "id": "83dc6b40",
   "metadata": {
    "id": "83dc6b40"
   },
   "source": [
    "---"
   ]
  },
  {
   "cell_type": "markdown",
   "id": "286c06ca",
   "metadata": {
    "id": "286c06ca"
   },
   "source": [
    "## <center> 5. Predictive Modeling"
   ]
  },
  {
   "cell_type": "markdown",
   "id": "815d554b",
   "metadata": {},
   "source": [
    " "
   ]
  },
  {
   "cell_type": "code",
   "execution_count": 147,
   "id": "dcc7ddf4",
   "metadata": {
    "colab": {
     "base_uri": "https://localhost:8080/",
     "height": 300
    },
    "id": "dcc7ddf4",
    "outputId": "0a6819e7-eb1b-4621-ec69-13380967b6e6"
   },
   "outputs": [
    {
     "data": {
      "image/png": "[encoded data removed]",
      "text/plain": [
       "<Figure size 720x432 with 1 Axes>"
      ]
     },
     "metadata": {
      "needs_background": "light"
     },
     "output_type": "display_data"
    }
   ],
   "source": [
    "# Building KMeans Algorithm on the dataset\n",
    "\n",
    "sse = {}\n",
    "for k in range(1, 11):\n",
    "    kmeans = KMeans(n_clusters=k, random_state=42)\n",
    "    kmeans.fit(customers_normalized)\n",
    "    sse[k] = kmeans.inertia_ # SSE to closest cluster centroid\n",
    "\n",
    "#Elbow Plot    \n",
    "plt.title('The Elbow Method')\n",
    "plt.xlabel('k')\n",
    "plt.ylabel('SSE')\n",
    "sns.pointplot(x=list(sse.keys()), y=list(sse.values()))\n",
    "plt.show()"
   ]
  },
  {
   "cell_type": "code",
   "execution_count": 152,
   "id": "94dd2324",
   "metadata": {},
   "outputs": [
    {
     "data": {
      "text/html": [
       "<div>\n",
       "<style scoped>\n",
       "    .dataframe tbody tr th:only-of-type {\n",
       "        vertical-align: middle;\n",
       "    }\n",
       "\n",
       "    .dataframe tbody tr th {\n",
       "        vertical-align: top;\n",
       "    }\n",
       "\n",
       "    .dataframe thead tr th {\n",
       "        text-align: left;\n",
       "    }\n",
       "\n",
       "    .dataframe thead tr:last-of-type th {\n",
       "        text-align: right;\n",
       "    }\n",
       "</style>\n",
       "<table border=\"1\" class=\"dataframe\">\n",
       "  <thead>\n",
       "    <tr>\n",
       "      <th></th>\n",
       "      <th>Recency</th>\n",
       "      <th>Frequency</th>\n",
       "      <th colspan=\"2\" halign=\"left\">MonetaryValue</th>\n",
       "    </tr>\n",
       "    <tr>\n",
       "      <th></th>\n",
       "      <th>mean</th>\n",
       "      <th>mean</th>\n",
       "      <th>mean</th>\n",
       "      <th>count</th>\n",
       "    </tr>\n",
       "    <tr>\n",
       "      <th>Cluster</th>\n",
       "      <th></th>\n",
       "      <th></th>\n",
       "      <th></th>\n",
       "      <th></th>\n",
       "    </tr>\n",
       "  </thead>\n",
       "  <tbody>\n",
       "    <tr>\n",
       "      <th>0</th>\n",
       "      <td>50.45</td>\n",
       "      <td>6.41</td>\n",
       "      <td>144.10</td>\n",
       "      <td>779</td>\n",
       "    </tr>\n",
       "    <tr>\n",
       "      <th>1</th>\n",
       "      <td>233.71</td>\n",
       "      <td>1.53</td>\n",
       "      <td>23.22</td>\n",
       "      <td>878</td>\n",
       "    </tr>\n",
       "    <tr>\n",
       "      <th>2</th>\n",
       "      <td>45.84</td>\n",
       "      <td>1.48</td>\n",
       "      <td>19.56</td>\n",
       "      <td>776</td>\n",
       "    </tr>\n",
       "  </tbody>\n",
       "</table>\n",
       "</div>"
      ],
      "text/plain": [
       "        Recency Frequency MonetaryValue      \n",
       "           mean      mean          mean count\n",
       "Cluster                                      \n",
       "0         50.45      6.41        144.10   779\n",
       "1        233.71      1.53         23.22   878\n",
       "2         45.84      1.48         19.56   776"
      ]
     },
     "execution_count": 152,
     "metadata": {},
     "output_type": "execute_result"
    }
   ],
   "source": [
    "#Final Model\n",
    "\n",
    "model = KMeans(n_clusters=3, random_state=42)\n",
    "model.fit(customers_normalized)\n",
    "\n",
    "customers[\"Cluster\"] = model.labels_\n",
    "customers.groupby('Cluster').agg({\n",
    "    'Recency':'mean',\n",
    "    'Frequency':'mean',\n",
    "    'MonetaryValue':['mean', 'count']}).round(2)"
   ]
  },
  {
   "cell_type": "code",
   "execution_count": 151,
   "id": "df9ba02d",
   "metadata": {},
   "outputs": [
    {
     "data": {
      "image/png": "[encoded data removed]",
      "text/plain": [
       "<Figure size 720x432 with 1 Axes>"
      ]
     },
     "metadata": {
      "needs_background": "light"
     },
     "output_type": "display_data"
    }
   ],
   "source": [
    "# Visualising the Cluster Chartecteristics\n",
    "\n",
    "df_normalized = pd.DataFrame(customers_normalized, columns=['Recency', 'Frequency', 'MonetaryValue'])\n",
    "df_normalized['ID'] = customers.index\n",
    "df_normalized['Cluster'] = model.labels_\n",
    "# Melt The Data\n",
    "df_nor_melt = pd.melt(df_normalized.reset_index(),\n",
    "                      id_vars=['ID', 'Cluster'],\n",
    "                      value_vars=['Recency','Frequency','MonetaryValue'],\n",
    "                      var_name='Attribute',\n",
    "                      value_name='Value')\n",
    "df_nor_melt.head()\n",
    "# Visualize it\n",
    "sns.lineplot('Attribute', 'Value', hue='Cluster', data=df_nor_melt)\n",
    "plt.show()"
   ]
  },
  {
   "cell_type": "markdown",
   "id": "5372172f",
   "metadata": {
    "id": "5372172f"
   },
   "source": [
    "**Insights:** By using this plot, we know how each segment differs. It describes more than we use the summarized table.\n",
    "We infer that cluster 0 is frequent, spend more, and they buy the product recently. Therefore, it could be the cluster of a loyal customer.\n",
    "Then, the cluster 1 is less frequent, less to spend, but they buy the product recently. Therefore, it could be the cluster of new customer.\n",
    "Finally, the cluster 2 is less frequent, less to spend, and they buy the product at the old time. Therefore, it could be the cluster of churned customers."
   ]
  },
  {
   "cell_type": "markdown",
   "id": "b307e664",
   "metadata": {
    "id": "b307e664"
   },
   "source": [
    "---"
   ]
  },
  {
   "cell_type": "markdown",
   "id": "7938051f",
   "metadata": {
    "id": "7938051f"
   },
   "source": [
    "## <center>  Project Outcomes & Conclusions"
   ]
  },
  {
   "cell_type": "markdown",
   "id": "c207a2b2",
   "metadata": {
    "id": "c207a2b2"
   },
   "source": [
    "### Here are some of the key outcomes of the project:\n",
    "- The Dataset was large enough summing around 5.4 lakh samples & we used a 10k subsamples for creation of the model. \n",
    "- For the segmentation we used RMF Technique to create working table as it is most common segmentation technique.\n",
    "- Visualising the distribution of data & their relationships, helped us to get some insights on the relationship between the feature-set.\n",
    "- Appropriate Transformations were applied on the data to satisfy the key assumptions. Followed by Standardization.\n",
    "- K Means algorithm was applied and appropriate cluster number was selected using Elbow Plot.\n",
    "- The results were interepreted by calculating the cluster means & it was visualised with help of snake plot."
   ]
  },
  {
   "cell_type": "code",
   "execution_count": null,
   "id": "72ccf148",
   "metadata": {},
   "outputs": [],
   "source": [
    "<<<----------------------------------------------------------THE END----------------------------------------------------------------->>>"
   ]
  }
 ],
 "metadata": {
  "colab": {
   "name": "Insurance Claim Anticipication.ipynb",
   "provenance": []
  },
  "kernelspec": {
   "display_name": "Python 3 (ipykernel)",
   "language": "python",
   "name": "python3"
  },
  "language_info": {
   "codemirror_mode": {
    "name": "ipython",
    "version": 3
   },
   "file_extension": ".py",
   "mimetype": "text/x-python",
   "name": "python",
   "nbconvert_exporter": "python",
   "pygments_lexer": "ipython3",
   "version": "3.7.9"
  }
 },
 "nbformat": 4,
 "nbformat_minor": 5
}
